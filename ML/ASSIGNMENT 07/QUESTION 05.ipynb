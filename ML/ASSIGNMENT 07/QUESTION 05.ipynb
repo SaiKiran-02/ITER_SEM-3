{
 "cells": [
  {
   "cell_type": "code",
   "execution_count": 50,
   "id": "24daa17c-503c-43cc-be4b-6fa8ae4ce4da",
   "metadata": {},
   "outputs": [],
   "source": [
    "import pandas as pd\n",
    "import numpy as np\n",
    "import random as r"
   ]
  },
  {
   "cell_type": "markdown",
   "id": "17659cf5-281c-45aa-baf5-568c21bfdbd1",
   "metadata": {},
   "source": [
    "## Perform the following tasks with pandas Series:"
   ]
  },
  {
   "cell_type": "markdown",
   "id": "99dc41a9-4271-4fe4-98eb-83e3c982fc10",
   "metadata": {},
   "source": [
    "### a) Create a Series from the list [7, 11, 13, 17]."
   ]
  },
  {
   "cell_type": "code",
   "execution_count": 37,
   "id": "d223ce68-940a-44a1-b9e9-f36465e18fd6",
   "metadata": {},
   "outputs": [
    {
     "data": {
      "text/plain": [
       "0     7\n",
       "1    11\n",
       "2    13\n",
       "3    17\n",
       "dtype: int64"
      ]
     },
     "execution_count": 37,
     "metadata": {},
     "output_type": "execute_result"
    }
   ],
   "source": [
    "list = [7,11,13,17]\n",
    "pd.Series(list)"
   ]
  },
  {
   "cell_type": "markdown",
   "id": "edf156da-b594-4aa7-a9e3-ebf5ccba1d18",
   "metadata": {},
   "source": [
    "### b) Create a Series with five elements that are all 100.0."
   ]
  },
  {
   "cell_type": "code",
   "execution_count": 40,
   "id": "77c67a03-230d-4c6c-9382-8176bef24eb4",
   "metadata": {},
   "outputs": [
    {
     "data": {
      "text/plain": [
       "0    100.0\n",
       "1    100.0\n",
       "2    100.0\n",
       "3    100.0\n",
       "4    100.0\n",
       "dtype: float64"
      ]
     },
     "execution_count": 40,
     "metadata": {},
     "output_type": "execute_result"
    }
   ],
   "source": [
    "li = []\n",
    "for i in range(5):\n",
    "    li.append(100.0)\n",
    "pd.Series(li)"
   ]
  },
  {
   "cell_type": "markdown",
   "id": "715951aa-c5c1-4327-94b0-bb6447ea4f18",
   "metadata": {},
   "source": [
    "### c) Create a Series with 20 elements that are all random numbers in the range 0 to Use method describe to produce the Series’ basic descriptive statistics."
   ]
  },
  {
   "cell_type": "code",
   "execution_count": 64,
   "id": "fbc21b16-0280-4aa6-a427-548033acd68b",
   "metadata": {},
   "outputs": [
    {
     "data": {
      "text/plain": [
       "count    20.000000\n",
       "mean      0.460638\n",
       "std       0.311662\n",
       "min       0.051853\n",
       "25%       0.195773\n",
       "50%       0.440406\n",
       "75%       0.694157\n",
       "max       0.975558\n",
       "dtype: float64"
      ]
     },
     "execution_count": 64,
     "metadata": {},
     "output_type": "execute_result"
    }
   ],
   "source": [
    "l = [r.random() for i in range(20)]\n",
    "pd.Series(l).describe()"
   ]
  },
  {
   "cell_type": "markdown",
   "id": "9cfc038d-fb26-4aba-bd32-1b3a7c7542e0",
   "metadata": {},
   "source": [
    "### d) Create a Series called temperatures of the floating-point values 98.6, 98.9, 100.2 and 97.9. Using the index keyword argument, specify the custom indices 'Julie', 'Charlie', 'Sam' and 'Andrea'."
   ]
  },
  {
   "cell_type": "code",
   "execution_count": 79,
   "id": "f4f41c44-05cd-4cde-8bdd-fee9e1cd2761",
   "metadata": {},
   "outputs": [],
   "source": [
    "rows = [98.6,98.9,100.2,97.9]\n",
    "idx = ['Julie','Charlie','Sam','Andrea']\n",
    "temperature = pd.Series(rows,index=idx)\n"
   ]
  },
  {
   "cell_type": "markdown",
   "id": "7f7b189c-db29-4586-9379-7f4e863114df",
   "metadata": {},
   "source": [
    "### e) Form a dictionary from the names and values in Part (d), then use it to initialize a Series."
   ]
  },
  {
   "cell_type": "code",
   "execution_count": 84,
   "id": "ecded966-8ecd-4000-8c77-b6933ee7ed94",
   "metadata": {},
   "outputs": [
    {
     "data": {
      "text/plain": [
       "Names      Temerature\n",
       "Julie            98.6\n",
       "Charlie          98.9\n",
       "Sam             100.2\n",
       "Andrea           97.9\n",
       "dtype: object"
      ]
     },
     "execution_count": 84,
     "metadata": {},
     "output_type": "execute_result"
    }
   ],
   "source": [
    "dict = {\n",
    "    'Names': 'Temerature',\n",
    "    'Julie': 98.6,\n",
    "    'Charlie': 98.9,\n",
    "    'Sam': 100.2,\n",
    "    'Andrea': 97.9\n",
    "}\n",
    "\n",
    "temp = pd.Series(dict)\n",
    "temp"
   ]
  },
  {
   "cell_type": "code",
   "execution_count": null,
   "id": "a10e8895-9492-47b1-9a32-def959f62c70",
   "metadata": {},
   "outputs": [],
   "source": []
  }
 ],
 "metadata": {
  "kernelspec": {
   "display_name": "Python 3 (ipykernel)",
   "language": "python",
   "name": "python3"
  },
  "language_info": {
   "codemirror_mode": {
    "name": "ipython",
    "version": 3
   },
   "file_extension": ".py",
   "mimetype": "text/x-python",
   "name": "python",
   "nbconvert_exporter": "python",
   "pygments_lexer": "ipython3",
   "version": "3.12.4"
  }
 },
 "nbformat": 4,
 "nbformat_minor": 5
}
