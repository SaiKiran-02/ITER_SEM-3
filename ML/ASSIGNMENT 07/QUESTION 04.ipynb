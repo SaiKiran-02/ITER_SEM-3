{
 "cells": [
  {
   "cell_type": "markdown",
   "id": "86270b71-3711-4524-857a-94773f2f907e",
   "metadata": {},
   "source": [
    "## Q 04 Generate a simulated dataset for classification application with the following properties.\n",
    "### a. Number of samples = 100\n",
    "### b. Number of features = 4\n",
    "### c. Number of classes = 2\n",
    "### d. Zero noise"
   ]
  },
  {
   "cell_type": "code",
   "execution_count": 9,
   "id": "533b4888-2d22-445f-b6af-bfb41e6e9806",
   "metadata": {},
   "outputs": [],
   "source": [
    "import pandas as pd \n",
    "import numpy as np"
   ]
  },
  {
   "cell_type": "code",
   "execution_count": 11,
   "id": "ff71affe-abb1-492e-a5bd-9472d4c34171",
   "metadata": {},
   "outputs": [],
   "source": [
    "def dataset_generation(n_samples=100, n_features=4, n_classes=2):\n",
    "    # Create features with explicit separation\n",
    "    X = np.zeros((n_samples, n_features))\n",
    "    y = np.zeros(n_samples, dtype=int)\n",
    "    \n",
    "    # Explicitly set different values for each class\n",
    "    for class_label in range(n_classes):\n",
    "        start = class_label * (n_samples // n_classes)\n",
    "        end = start + (n_samples // n_classes)\n",
    "        \n",
    "        # Create features with clear class-specific values\n",
    "        X[start:end] = class_label + \\\n",
    "            np.linspace(0, 1, n_features) * class_label\n",
    "        \n",
    "        y[start:end] = class_label\n",
    "    \n",
    "    df = pd.DataFrame(X, columns=[f'feature_{i+1}' for i in range(n_features)])\n",
    "    df['target'] = y\n",
    "    \n",
    "    return df"
   ]
  },
  {
   "cell_type": "code",
   "execution_count": 13,
   "id": "dafe4216-bc19-435c-ba81-aacc2e4cc3e1",
   "metadata": {},
   "outputs": [
    {
     "name": "stdout",
     "output_type": "stream",
     "text": [
      "Dataset Shape: (100, 5)\n",
      "\n",
      "Feature Columns:\n",
      "Index(['feature_1', 'feature_2', 'feature_3', 'feature_4', 'target'], dtype='object')\n",
      "\n",
      "Target Value Counts:\n",
      "target\n",
      "0    50\n",
      "1    50\n",
      "Name: count, dtype: int64\n",
      "\n",
      "First few rows:\n",
      "   feature_1  feature_2  feature_3  feature_4  target\n",
      "0        0.0        0.0        0.0        0.0       0\n",
      "1        0.0        0.0        0.0        0.0       0\n",
      "2        0.0        0.0        0.0        0.0       0\n",
      "3        0.0        0.0        0.0        0.0       0\n",
      "4        0.0        0.0        0.0        0.0       0\n",
      "\n",
      "Class Separation:\n",
      "\n",
      "feature_1 statistics by class:\n",
      "        mean  std\n",
      "target           \n",
      "0        0.0  0.0\n",
      "1        1.0  0.0\n",
      "\n",
      "feature_2 statistics by class:\n",
      "            mean  std\n",
      "target               \n",
      "0       0.000000  0.0\n",
      "1       1.333333  0.0\n",
      "\n",
      "feature_3 statistics by class:\n",
      "            mean  std\n",
      "target               \n",
      "0       0.000000  0.0\n",
      "1       1.666667  0.0\n",
      "\n",
      "feature_4 statistics by class:\n",
      "        mean  std\n",
      "target           \n",
      "0        0.0  0.0\n",
      "1        2.0  0.0\n"
     ]
    }
   ],
   "source": [
    "df = dataset_generation()\n",
    "\n",
    "# Display dataset information\n",
    "print(\"Dataset Shape:\", df.shape)\n",
    "print(\"\\nFeature Columns:\")\n",
    "print(df.columns)\n",
    "print(\"\\nTarget Value Counts:\")\n",
    "print(df['target'].value_counts())\n",
    "print(\"\\nFirst few rows:\")\n",
    "print(df.head())\n",
    "\n",
    "# Verify class separation\n",
    "print(\"\\nClass Separation:\")\n",
    "for feature in df.columns[:4]:\n",
    "    print(f\"\\n{feature} statistics by class:\")\n",
    "    print(df.groupby('target')[feature].agg(['mean', 'std']))"
   ]
  },
  {
   "cell_type": "code",
   "execution_count": null,
   "id": "65fe8993-913a-4c38-a985-398051706622",
   "metadata": {},
   "outputs": [],
   "source": []
  }
 ],
 "metadata": {
  "kernelspec": {
   "display_name": "Python 3 (ipykernel)",
   "language": "python",
   "name": "python3"
  },
  "language_info": {
   "codemirror_mode": {
    "name": "ipython",
    "version": 3
   },
   "file_extension": ".py",
   "mimetype": "text/x-python",
   "name": "python",
   "nbconvert_exporter": "python",
   "pygments_lexer": "ipython3",
   "version": "3.12.4"
  }
 },
 "nbformat": 4,
 "nbformat_minor": 5
}
