{
 "cells": [
  {
   "cell_type": "code",
   "execution_count": 112,
   "id": "7fcd7c22-db07-4309-8934-a4c67250bc62",
   "metadata": {},
   "outputs": [],
   "source": [
    "import pandas as pd\n",
    "import numpy as np\n",
    "import matplotlib.pyplot as plt"
   ]
  },
  {
   "cell_type": "markdown",
   "id": "bb0dfbfc-2f40-410b-bf42-c62e55d87118",
   "metadata": {},
   "source": [
    "## Q 08 To the above “FestSales.csv” data, add a Day column that contains the different days of week, as shown below."
   ]
  },
  {
   "cell_type": "code",
   "execution_count": 115,
   "id": "af090022-24a5-4255-82bb-bb4410fe26ab",
   "metadata": {},
   "outputs": [
    {
     "data": {
      "text/plain": [
       "RangeIndex(start=0, stop=7, step=1)"
      ]
     },
     "execution_count": 115,
     "metadata": {},
     "output_type": "execute_result"
    }
   ],
   "source": [
    "days = ['Monday','Tuesday','Wednesday','Thrusday','Friday','Saturday','Sunday']\n",
    "df = pd.read_csv('FestSales.csv')\n",
    "df.index"
   ]
  },
  {
   "cell_type": "code",
   "execution_count": 117,
   "id": "8c26b7d6-0263-4517-8fbc-10c40501557f",
   "metadata": {},
   "outputs": [
    {
     "data": {
      "text/html": [
       "<div>\n",
       "<style scoped>\n",
       "    .dataframe tbody tr th:only-of-type {\n",
       "        vertical-align: middle;\n",
       "    }\n",
       "\n",
       "    .dataframe tbody tr th {\n",
       "        vertical-align: top;\n",
       "    }\n",
       "\n",
       "    .dataframe thead th {\n",
       "        text-align: right;\n",
       "    }\n",
       "</style>\n",
       "<table border=\"1\" class=\"dataframe\">\n",
       "  <thead>\n",
       "    <tr style=\"text-align: right;\">\n",
       "      <th></th>\n",
       "      <th>week1</th>\n",
       "      <th>week2</th>\n",
       "      <th>week3</th>\n",
       "      <th>Days</th>\n",
       "    </tr>\n",
       "  </thead>\n",
       "  <tbody>\n",
       "    <tr>\n",
       "      <th>0</th>\n",
       "      <td>5122</td>\n",
       "      <td>5953</td>\n",
       "      <td>3207</td>\n",
       "      <td>Monday</td>\n",
       "    </tr>\n",
       "    <tr>\n",
       "      <th>1</th>\n",
       "      <td>3285</td>\n",
       "      <td>6779</td>\n",
       "      <td>3599</td>\n",
       "      <td>Tuesday</td>\n",
       "    </tr>\n",
       "    <tr>\n",
       "      <th>2</th>\n",
       "      <td>6379</td>\n",
       "      <td>4607</td>\n",
       "      <td>5668</td>\n",
       "      <td>Wednesday</td>\n",
       "    </tr>\n",
       "    <tr>\n",
       "      <th>3</th>\n",
       "      <td>3976</td>\n",
       "      <td>5341</td>\n",
       "      <td>5273</td>\n",
       "      <td>Thrusday</td>\n",
       "    </tr>\n",
       "    <tr>\n",
       "      <th>4</th>\n",
       "      <td>6890</td>\n",
       "      <td>5387</td>\n",
       "      <td>6291</td>\n",
       "      <td>Friday</td>\n",
       "    </tr>\n",
       "    <tr>\n",
       "      <th>5</th>\n",
       "      <td>3823</td>\n",
       "      <td>5484</td>\n",
       "      <td>5243</td>\n",
       "      <td>Saturday</td>\n",
       "    </tr>\n",
       "    <tr>\n",
       "      <th>6</th>\n",
       "      <td>6455</td>\n",
       "      <td>6169</td>\n",
       "      <td>5074</td>\n",
       "      <td>Sunday</td>\n",
       "    </tr>\n",
       "  </tbody>\n",
       "</table>\n",
       "</div>"
      ],
      "text/plain": [
       "   week1  week2  week3       Days\n",
       "0   5122   5953   3207     Monday\n",
       "1   3285   6779   3599    Tuesday\n",
       "2   6379   4607   5668  Wednesday\n",
       "3   3976   5341   5273   Thrusday\n",
       "4   6890   5387   6291     Friday\n",
       "5   3823   5484   5243   Saturday\n",
       "6   6455   6169   5074     Sunday"
      ]
     },
     "execution_count": 117,
     "metadata": {},
     "output_type": "execute_result"
    }
   ],
   "source": [
    "df['Days'] = days\n",
    "df"
   ]
  },
  {
   "cell_type": "markdown",
   "id": "6a0ae854-ba7d-4e52-a5bc-aa3809b16469",
   "metadata": {},
   "source": [
    "### Write a python script to display Bar plot for the “FestSales.csv” file with column Dayon x axis."
   ]
  },
  {
   "cell_type": "code",
   "execution_count": 129,
   "id": "21de115e-d56c-4f21-85ea-77f942e3c9a1",
   "metadata": {},
   "outputs": [
    {
     "data": {
      "text/plain": [
       "<Axes: >"
      ]
     },
     "execution_count": 129,
     "metadata": {},
     "output_type": "execute_result"
    },
    {
     "data": {
      "image/png": "[encoded data removed]",
      "text/plain": [
       "<Figure size 640x480 with 1 Axes>"
      ]
     },
     "metadata": {},
     "output_type": "display_data"
    }
   ],
   "source": [
    "df.plot(kind='bar')"
   ]
  }
 ],
 "metadata": {
  "kernelspec": {
   "display_name": "Python 3 (ipykernel)",
   "language": "python",
   "name": "python3"
  },
  "language_info": {
   "codemirror_mode": {
    "name": "ipython",
    "version": 3
   },
   "file_extension": ".py",
   "mimetype": "text/x-python",
   "name": "python",
   "nbconvert_exporter": "python",
   "pygments_lexer": "ipython3",
   "version": "3.12.4"
  }
 },
 "nbformat": 4,
 "nbformat_minor": 5
}
