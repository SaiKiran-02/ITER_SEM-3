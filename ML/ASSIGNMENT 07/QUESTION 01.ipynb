{
 "cells": [
  {
   "cell_type": "markdown",
   "id": "c74e2152-8511-49a7-8ae0-888541b9598b",
   "metadata": {},
   "source": [
    "# Matrix Operations"
   ]
  },
  {
   "cell_type": "code",
   "execution_count": 4,
   "id": "4a2042c5-b887-4b6d-aff2-567827c963b7",
   "metadata": {},
   "outputs": [],
   "source": [
    "import numpy as np\n",
    "import pandas as pd"
   ]
  },
  {
   "cell_type": "markdown",
   "id": "d26a6884-b818-4cda-a14d-96040792448e",
   "metadata": {},
   "source": [
    "## a. Create a matrix as follows."
   ]
  },
  {
   "cell_type": "code",
   "execution_count": 7,
   "id": "2572ca3c-3525-4107-af2b-0e9318d6504f",
   "metadata": {},
   "outputs": [
    {
     "data": {
      "text/plain": [
       "array([[ 1,  2,  3,  4],\n",
       "       [ 5,  6,  7,  8],\n",
       "       [ 9, 10, 11, 12]])"
      ]
     },
     "execution_count": 7,
     "metadata": {},
     "output_type": "execute_result"
    }
   ],
   "source": [
    "x = np.array([[1,2,3,4],[5,6,7,8],[9,10,11,12]])\n",
    "x"
   ]
  },
  {
   "cell_type": "markdown",
   "id": "fccaf99e-259f-44c3-9ae1-4c0f0ad44652",
   "metadata": {},
   "source": [
    "## b. Create a vector as follows"
   ]
  },
  {
   "cell_type": "code",
   "execution_count": 10,
   "id": "ba557ebd-3b26-4837-9367-400ca576d0c9",
   "metadata": {},
   "outputs": [
    {
     "data": {
      "text/plain": [
       "array([1, 2, 3, 4, 5, 6])"
      ]
     },
     "execution_count": 10,
     "metadata": {},
     "output_type": "execute_result"
    }
   ],
   "source": [
    "y = np.array([1,2,3,4,5,6])\n",
    "y"
   ]
  },
  {
   "cell_type": "markdown",
   "id": "198f7610-c923-43b2-ba8f-161d1ea6427e",
   "metadata": {},
   "source": [
    "## c. Select and display 𝑋13 , 𝑋22 , 𝑋32"
   ]
  },
  {
   "cell_type": "code",
   "execution_count": 17,
   "id": "4719788d-2cb7-4f87-98e6-05053727514d",
   "metadata": {},
   "outputs": [
    {
     "name": "stdout",
     "output_type": "stream",
     "text": [
      "3\n",
      "6\n"
     ]
    },
    {
     "data": {
      "text/plain": [
       "10"
      ]
     },
     "execution_count": 17,
     "metadata": {},
     "output_type": "execute_result"
    }
   ],
   "source": [
    "print(x[0][2])\n",
    "print(x[1][1])\n",
    "x[2][1]"
   ]
  },
  {
   "cell_type": "markdown",
   "id": "1ecb0787-93be-41cd-84d2-1c49cbf0e228",
   "metadata": {},
   "source": [
    "## d. Select and display the first three and the last three elements of 𝑦 separately"
   ]
  },
  {
   "cell_type": "code",
   "execution_count": 21,
   "id": "ad1e1e6b-8cca-48aa-8453-e7143b204241",
   "metadata": {},
   "outputs": [
    {
     "name": "stdout",
     "output_type": "stream",
     "text": [
      "first 3 elements: [1 2 3]\n",
      "last 3 elements: [6 5 4]\n"
     ]
    }
   ],
   "source": [
    "print(f\"first 3 elements: {y[0:3]}\")\n",
    "print(f\"last 3 elements: {y[-1:-4:-1]}\")"
   ]
  },
  {
   "cell_type": "markdown",
   "id": "d30d13c6-e25d-415c-b358-7e9eeea00a16",
   "metadata": {},
   "source": [
    "## e. Find the size, number of elements and number of dimensions of both 𝑋 and 𝑦."
   ]
  },
  {
   "cell_type": "code",
   "execution_count": 33,
   "id": "13976be0-c942-4d16-b1ca-cf34aac35884",
   "metadata": {},
   "outputs": [
    {
     "name": "stdout",
     "output_type": "stream",
     "text": [
      "number of elements of x: 12\n",
      "number of elements of y: 6\n",
      "shape of x: (3, 4)\n",
      "shape of y: (6,)\n",
      "dimension of x: 2 D\n",
      "dimension of y: 1 D\n"
     ]
    }
   ],
   "source": [
    "print(f\"number of elements of x: {x.size}\")\n",
    "print(f\"number of elements of y: {y.size}\")\n",
    "print(f\"shape of x: {x.shape}\")\n",
    "print(f\"shape of y: {y.shape}\")\n",
    "print(f\"dimension of x: {len(x.shape)} D\")\n",
    "print(f\"dimension of y: {len(y.shape)} D\")"
   ]
  },
  {
   "cell_type": "markdown",
   "id": "0c9392d8-098b-47f2-bc55-2e63368a4d85",
   "metadata": {},
   "source": [
    "## f. Generate and display 𝑋10 = 𝑋 + 10."
   ]
  },
  {
   "cell_type": "code",
   "execution_count": 20,
   "id": "3759e506-2444-4d51-ae54-c7fe2bac0698",
   "metadata": {},
   "outputs": [
    {
     "data": {
      "text/plain": [
       "15"
      ]
     },
     "execution_count": 20,
     "metadata": {},
     "output_type": "execute_result"
    }
   ],
   "source": [
    "x[1][0] = x[1][0] + 10 \n",
    "x[1][0]"
   ]
  },
  {
   "cell_type": "markdown",
   "id": "ee4ec529-90d2-4ec2-aec5-3876f60201b4",
   "metadata": {},
   "source": [
    "## g. Find the maximum and minimum values of both 𝑋 and 𝑦."
   ]
  },
  {
   "cell_type": "code",
   "execution_count": 35,
   "id": "8e3cab96-9fbe-4d34-96b1-a3823cbfcd1a",
   "metadata": {},
   "outputs": [
    {
     "name": "stdout",
     "output_type": "stream",
     "text": [
      "max of x: 12\n",
      "min of x: 1\n",
      "max of y: 6\n",
      "min of y: 1\n"
     ]
    }
   ],
   "source": [
    "print(f\"max of x: {x.max()}\")\n",
    "print(f\"min of x: {x.min()}\")\n",
    "print(f\"max of y: {y.max()}\")\n",
    "print(f\"min of y: {y.min()}\")"
   ]
  },
  {
   "cell_type": "markdown",
   "id": "4226555a-6f12-4963-a099-034dcaa9f25a",
   "metadata": {},
   "source": [
    "## h. Calculate the and display Average, Variance, and Standard Deviation"
   ]
  },
  {
   "cell_type": "code",
   "execution_count": 57,
   "id": "f6edc13e-8e06-4ae5-8a46-50fc72166ccd",
   "metadata": {},
   "outputs": [
    {
     "name": "stdout",
     "output_type": "stream",
     "text": [
      "avg: 6.5\n",
      "var: 11.916666666666666\n",
      "std: 3.452052529534663\n"
     ]
    }
   ],
   "source": [
    "x_avg = np.average(x)\n",
    "print(f\"avg: {x_avg}\")\n",
    "x_var = np.var(x)\n",
    "print(f\"var: {x_var}\")\n",
    "x_std = np.std(x)\n",
    "print(f\"std: {x_std}\")"
   ]
  },
  {
   "cell_type": "markdown",
   "id": "f8d0a535-632c-4b3c-a55d-039568f0e304",
   "metadata": {},
   "source": [
    "## i. Reshape 𝑋 as a 2 × 6 matrix"
   ]
  },
  {
   "cell_type": "code",
   "execution_count": 30,
   "id": "b1153dd7-f1f2-48f1-a325-b0c501326d50",
   "metadata": {},
   "outputs": [
    {
     "data": {
      "text/plain": [
       "array([[ 1,  2,  3,  4, 15,  6],\n",
       "       [ 7,  8,  9, 10, 11, 12]])"
      ]
     },
     "execution_count": 30,
     "metadata": {},
     "output_type": "execute_result"
    }
   ],
   "source": [
    "np.reshape(x,(2,6))"
   ]
  },
  {
   "cell_type": "markdown",
   "id": "10ba40bd-7561-4955-bb93-083120ef57ec",
   "metadata": {},
   "source": [
    "## j. Find and display the transpose of both 𝑋 and 𝑦."
   ]
  },
  {
   "cell_type": "code",
   "execution_count": 32,
   "id": "35750005-ecf4-4b6a-84e4-2f2c72866ecf",
   "metadata": {},
   "outputs": [
    {
     "data": {
      "text/plain": [
       "array([[ 1, 15,  9],\n",
       "       [ 2,  6, 10],\n",
       "       [ 3,  7, 11],\n",
       "       [ 4,  8, 12]])"
      ]
     },
     "execution_count": 32,
     "metadata": {},
     "output_type": "execute_result"
    }
   ],
   "source": [
    "np.transpose(x)"
   ]
  },
  {
   "cell_type": "code",
   "execution_count": 33,
   "id": "3ceb0978-5bd7-4287-97cb-18946f903891",
   "metadata": {},
   "outputs": [
    {
     "data": {
      "text/plain": [
       "array([1, 2, 3, 4, 5, 6])"
      ]
     },
     "execution_count": 33,
     "metadata": {},
     "output_type": "execute_result"
    }
   ],
   "source": [
    "np.transpose(y)"
   ]
  },
  {
   "cell_type": "markdown",
   "id": "71292175-6b25-4f01-892f-09547c0fb6e1",
   "metadata": {},
   "source": [
    "## k. Flatten 𝑋 and display."
   ]
  },
  {
   "cell_type": "code",
   "execution_count": 35,
   "id": "cfe7667b-3acc-49f9-a10b-a2f883cd233c",
   "metadata": {},
   "outputs": [
    {
     "data": {
      "text/plain": [
       "array([ 1,  2,  3,  4, 15,  6,  7,  8,  9, 10, 11, 12])"
      ]
     },
     "execution_count": 35,
     "metadata": {},
     "output_type": "execute_result"
    }
   ],
   "source": [
    "x.flatten()"
   ]
  },
  {
   "cell_type": "markdown",
   "id": "9af945d1-c466-4e8c-b01a-adfc5f199850",
   "metadata": {},
   "source": [
    "## l. Generate a 3 × 3 square matrix (𝑃)."
   ]
  },
  {
   "cell_type": "code",
   "execution_count": 59,
   "id": "b9f4f703-de29-4afd-bd46-5f9646fe8d15",
   "metadata": {},
   "outputs": [],
   "source": [
    "p = np.array([[1,3,6],[1,4,5],[2,2,7]])"
   ]
  },
  {
   "cell_type": "markdown",
   "id": "e5d648a6-442b-46ce-99cc-ce60abdc99b7",
   "metadata": {},
   "source": [
    "## m. Find and display the rank."
   ]
  },
  {
   "cell_type": "code",
   "execution_count": 41,
   "id": "3e527809-f9f9-4db6-8b98-17f3bd768319",
   "metadata": {},
   "outputs": [
    {
     "data": {
      "text/plain": [
       "2"
      ]
     },
     "execution_count": 41,
     "metadata": {},
     "output_type": "execute_result"
    }
   ],
   "source": [
    "len(p.shape)"
   ]
  },
  {
   "cell_type": "markdown",
   "id": "e2d63adf-0006-4346-9e7c-99a9c5a5ee1d",
   "metadata": {},
   "source": [
    "## n. Find and display the determinant of 𝑃."
   ]
  },
  {
   "cell_type": "code",
   "execution_count": 43,
   "id": "e5cd534a-9d6d-4221-95b5-6f2033165f57",
   "metadata": {},
   "outputs": [
    {
     "data": {
      "text/plain": [
       "-8.999999999999998"
      ]
     },
     "execution_count": 43,
     "metadata": {},
     "output_type": "execute_result"
    }
   ],
   "source": [
    "np.linalg.det(p)"
   ]
  },
  {
   "cell_type": "markdown",
   "id": "9c356d1d-bfaf-49d1-954a-0c4e78525a43",
   "metadata": {},
   "source": [
    "## o. Find and display the diagonal of 𝑃."
   ]
  },
  {
   "cell_type": "code",
   "execution_count": 45,
   "id": "ab6f2008-712b-4a9b-bd26-b0a9d1d6cb8e",
   "metadata": {},
   "outputs": [
    {
     "data": {
      "text/plain": [
       "array([1, 4, 7])"
      ]
     },
     "execution_count": 45,
     "metadata": {},
     "output_type": "execute_result"
    }
   ],
   "source": [
    "p.diagonal()"
   ]
  },
  {
   "cell_type": "markdown",
   "id": "d6c06f6a-f2a7-474c-a96c-b401a1d5e5b3",
   "metadata": {},
   "source": [
    "## p. Find and display the trace of 𝑃."
   ]
  },
  {
   "cell_type": "code",
   "execution_count": 47,
   "id": "e3fd2163-b7d3-4435-ab65-e10afad32b37",
   "metadata": {},
   "outputs": [
    {
     "data": {
      "text/plain": [
       "12"
      ]
     },
     "execution_count": 47,
     "metadata": {},
     "output_type": "execute_result"
    }
   ],
   "source": [
    "p.trace()"
   ]
  },
  {
   "cell_type": "markdown",
   "id": "e4dc0e39-0307-4c02-818e-8cde31299c81",
   "metadata": {},
   "source": [
    "## q. Find the eigen values and eigen vectors of p."
   ]
  },
  {
   "cell_type": "code",
   "execution_count": 49,
   "id": "2364a183-a4c3-4e8c-86ef-87780223f41c",
   "metadata": {},
   "outputs": [
    {
     "data": {
      "text/plain": [
       "array([10.59900683, -0.45701438,  1.85800755])"
      ]
     },
     "execution_count": 49,
     "metadata": {},
     "output_type": "execute_result"
    }
   ],
   "source": [
    "np.linalg.eigvals(p)"
   ]
  },
  {
   "cell_type": "code",
   "execution_count": 50,
   "id": "8115abff-ba2b-4b41-865d-dbf58c34201f",
   "metadata": {},
   "outputs": [],
   "source": [
    "val, vec = np.linalg.eig(p)"
   ]
  },
  {
   "cell_type": "code",
   "execution_count": 51,
   "id": "20c890f1-2e4d-4f24-8697-fb3b42c6e2e5",
   "metadata": {},
   "outputs": [
    {
     "data": {
      "text/plain": [
       "array([[-0.55902488, -0.95323847, -0.18562955],\n",
       "       [-0.55289125, -0.10432388, -0.88924337],\n",
       "       [-0.61790165,  0.2836423 ,  0.41807643]])"
      ]
     },
     "execution_count": 51,
     "metadata": {},
     "output_type": "execute_result"
    }
   ],
   "source": [
    "vec"
   ]
  },
  {
   "cell_type": "markdown",
   "id": "b3350fb9-596b-48b3-9c08-2388cf7afe04",
   "metadata": {},
   "source": [
    "## r. Generate 𝑧 = [2, 3, 6, 2, 5 2]. Find the dot product between 𝑦 and 𝑧."
   ]
  },
  {
   "cell_type": "code",
   "execution_count": 61,
   "id": "ec4b08c5-5c58-452f-a4f5-f481fc9323b0",
   "metadata": {},
   "outputs": [
    {
     "data": {
      "text/plain": [
       "71"
      ]
     },
     "execution_count": 61,
     "metadata": {},
     "output_type": "execute_result"
    }
   ],
   "source": [
    "z = np.array([2,3,6,2,5,2])\n",
    "np.dot(y,z)"
   ]
  },
  {
   "cell_type": "markdown",
   "id": "8e41b287-b694-41b0-925f-e85fae21777b",
   "metadata": {},
   "source": [
    "## s. Generate a 3 × 3 square matrix (𝑄)."
   ]
  },
  {
   "cell_type": "code",
   "execution_count": 63,
   "id": "12dd6b3f-54a5-476a-8632-6e78e1f5575f",
   "metadata": {},
   "outputs": [],
   "source": [
    "q = np.array([[4,6,7],[5,5,2],[3,4,6]])"
   ]
  },
  {
   "cell_type": "code",
   "execution_count": 57,
   "id": "204e3f99-ac8c-499b-ba04-5f38ce6985c3",
   "metadata": {},
   "outputs": [
    {
     "name": "stdout",
     "output_type": "stream",
     "text": [
      "[[ 5  9 13]\n",
      " [ 6  9  7]\n",
      " [ 5  6 13]]\n"
     ]
    }
   ],
   "source": [
    "print(p+q)"
   ]
  },
  {
   "cell_type": "code",
   "execution_count": 58,
   "id": "8e50f95e-2441-4a10-ab0d-9cc5afc1bc12",
   "metadata": {},
   "outputs": [
    {
     "name": "stdout",
     "output_type": "stream",
     "text": [
      "[[-3 -3 -1]\n",
      " [-4 -1  3]\n",
      " [-1 -2  1]]\n"
     ]
    }
   ],
   "source": [
    "print(p-q)"
   ]
  },
  {
   "cell_type": "markdown",
   "id": "e1a4d2f1-25b9-4ffc-bd2e-8c5932a93b19",
   "metadata": {},
   "source": [
    "## t. Find and display element wise product of P and Q."
   ]
  },
  {
   "cell_type": "code",
   "execution_count": 99,
   "id": "6b712abf-1c08-498f-87bf-bd2070282c89",
   "metadata": {},
   "outputs": [
    {
     "data": {
      "text/plain": [
       "array([[ 4, 18, 42],\n",
       "       [ 5, 20, 10],\n",
       "       [ 6,  8, 42]])"
      ]
     },
     "execution_count": 99,
     "metadata": {},
     "output_type": "execute_result"
    }
   ],
   "source": [
    "p*q"
   ]
  },
  {
   "cell_type": "markdown",
   "id": "df4fd42e-cc74-4670-ad39-c2290f645144",
   "metadata": {},
   "source": [
    "## u. Find and display inverse of of P and Q."
   ]
  },
  {
   "cell_type": "code",
   "execution_count": 103,
   "id": "f87d1188-6b40-4923-90ce-bcadb7c1bd18",
   "metadata": {},
   "outputs": [
    {
     "data": {
      "text/plain": [
       "array([[-2.        ,  1.        ,  1.        ],\n",
       "       [-0.33333333,  0.55555556, -0.11111111],\n",
       "       [ 0.66666667, -0.44444444, -0.11111111]])"
      ]
     },
     "execution_count": 103,
     "metadata": {},
     "output_type": "execute_result"
    }
   ],
   "source": [
    "np.linalg.inv(p)"
   ]
  },
  {
   "cell_type": "code",
   "execution_count": 109,
   "id": "55ae8891-7124-45ea-a429-32cad757dd9c",
   "metadata": {},
   "outputs": [
    {
     "data": {
      "text/plain": [
       "array([[-1.04761905,  0.38095238,  1.0952381 ],\n",
       "       [ 1.14285714, -0.14285714, -1.28571429],\n",
       "       [-0.23809524, -0.0952381 ,  0.47619048]])"
      ]
     },
     "execution_count": 109,
     "metadata": {},
     "output_type": "execute_result"
    }
   ],
   "source": [
    "np.linalg.inv(q)"
   ]
  },
  {
   "cell_type": "markdown",
   "id": "d7576440-30ae-495f-b339-de81f4ec025c",
   "metadata": {},
   "source": [
    "## v. Generate 10 no.s of random numbers of uniform, gaussian and logistic distributions."
   ]
  },
  {
   "cell_type": "code",
   "execution_count": 120,
   "id": "1c93f321-91b5-45d2-92b3-58482e72e322",
   "metadata": {},
   "outputs": [],
   "source": [
    "np.random.seed(42)\n",
    "uniform_num = np.random.uniform(0,1,10)\n",
    "gaussian_num = np.random.normal(0,1,10)\n",
    "logistic_num = np.random.logistic(0,1,10)"
   ]
  },
  {
   "cell_type": "code",
   "execution_count": 124,
   "id": "74683db1-d5e3-4195-aeba-00eae726073a",
   "metadata": {},
   "outputs": [
    {
     "name": "stdout",
     "output_type": "stream",
     "text": [
      "[0.37454012 0.95071431 0.73199394 0.59865848 0.15601864 0.15599452\n",
      " 0.05808361 0.86617615 0.60111501 0.70807258]\n",
      "[-0.46947439  0.54256004 -0.46341769 -0.46572975  0.24196227 -1.91328024\n",
      " -1.72491783 -0.56228753 -1.01283112  0.31424733]\n",
      "[-0.88499072 -0.54785657 -0.17617432  1.29608858 -1.38833447  0.05695314\n",
      "  0.37395612 -3.02180608  0.43700374 -1.58191725]\n"
     ]
    }
   ],
   "source": [
    "print(uniform_num)\n",
    "print(gaussian_num)\n",
    "print(logistic_num)"
   ]
  }
 ],
 "metadata": {
  "kernelspec": {
   "display_name": "Python 3 (ipykernel)",
   "language": "python",
   "name": "python3"
  },
  "language_info": {
   "codemirror_mode": {
    "name": "ipython",
    "version": 3
   },
   "file_extension": ".py",
   "mimetype": "text/x-python",
   "name": "python",
   "nbconvert_exporter": "python",
   "pygments_lexer": "ipython3",
   "version": "3.12.4"
  }
 },
 "nbformat": 4,
 "nbformat_minor": 5
}
