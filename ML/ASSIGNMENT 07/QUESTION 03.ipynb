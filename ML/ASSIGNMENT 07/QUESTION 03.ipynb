{
 "cells": [
  {
   "cell_type": "markdown",
   "id": "cb0cc337-5713-464c-aeed-416a10bb7b5b",
   "metadata": {},
   "source": [
    "## Generate a simulated dataset for regression application using NumPy, with the following properties."
   ]
  },
  {
   "cell_type": "markdown",
   "id": "6e0d39cf-6aa1-4601-8fc0-508f98460740",
   "metadata": {},
   "source": [
    "### a. Number of samples = 100\n",
    "### b. Number of features = 4\n",
    "### c. Number of targets = 1\n",
    "### d. Zero noise"
   ]
  },
  {
   "cell_type": "code",
   "execution_count": null,
   "id": "56356ee1-9355-40b7-9a36-86477cb9d55a",
   "metadata": {},
   "outputs": [],
   "source": []
  }
 ],
 "metadata": {
  "kernelspec": {
   "display_name": "Python 3 (ipykernel)",
   "language": "python",
   "name": "python3"
  },
  "language_info": {
   "codemirror_mode": {
    "name": "ipython",
    "version": 3
   },
   "file_extension": ".py",
   "mimetype": "text/x-python",
   "name": "python",
   "nbconvert_exporter": "python",
   "pygments_lexer": "ipython3",
   "version": "3.12.4"
  }
 },
 "nbformat": 4,
 "nbformat_minor": 5
}
