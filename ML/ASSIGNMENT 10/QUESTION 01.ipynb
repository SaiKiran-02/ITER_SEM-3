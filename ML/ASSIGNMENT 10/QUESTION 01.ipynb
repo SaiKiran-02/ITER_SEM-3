{
 "cells": [
  {
   "cell_type": "code",
   "execution_count": null,
   "id": "5dce2032-e032-4f70-85da-ca5fab24d7fc",
   "metadata": {},
   "outputs": [],
   "source": []
  }
 ],
 "metadata": {
  "kernelspec": {
   "display_name": "Python 3 (ipykernel)",
   "language": "python",
   "name": "python3"
  },
  "language_info": {
   "codemirror_mode": {
    "name": "ipython",
    "version": 3
   },
   "file_extension": ".py",
   "mimetype": "text/x-python",
   "name": "python",
   "nbconvert_exporter": "python",
   "pygments_lexer": "ipython3",
   "version": "3.12.4"
  }
 },
 "nbformat": 4,
 "nbformat_minor": 5
}
